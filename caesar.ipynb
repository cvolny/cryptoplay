{
 "cells": [
  {
   "cell_type": "code",
   "execution_count": 1,
   "metadata": {
    "collapsed": false
   },
   "outputs": [],
   "source": [
    "import collections\n",
    "import itertools\n",
    "import operator\n",
    "\n",
    "START = ord('A')\n",
    "END = ord('Z')\n",
    "ALPHABET = list(map(chr, range(START, END+1)))\n",
    "LENGTH = len(ALPHABET)\n",
    "DICTIONARY = ['HELLO', 'THE', 'AND', 'FOR', 'ARE', 'BUT', 'NOT', 'YOU', 'ALL', 'ANY', 'HER', 'HIM']\n",
    "FREQUENCIES = 'ETAOINSHRDLCUMWFGYPBVKJXQZ'\n",
    "\n",
    "class Caesar:\n",
    "    @staticmethod\n",
    "    def table(i, reverse = False):\n",
    "        \"\"\"\n",
    "        Given offset, rotate the alphabet by offset characters, circularly.\n",
    "        \"\"\"\n",
    "        t = collections.deque(ALPHABET)\n",
    "        d = 1 if not reverse else -1\n",
    "        t.rotate(d * i)\n",
    "        return list(t)\n",
    "\n",
    "    @staticmethod\n",
    "    def offset(first, second = START):\n",
    "        \"\"\"\n",
    "        Calculate the difference/offset between the first and second chars (if not ints) or offsets (if ints).\n",
    "        \"\"\"\n",
    "        if not type(first) is int:\n",
    "            first = ord(first)\n",
    "        if not type(second) is int:\n",
    "            second = ord(second)\n",
    "        return (first - second) % LENGTH\n",
    "\n",
    "    @staticmethod\n",
    "    def encipher(cleartext, i, reverse = False):\n",
    "        \"\"\"\n",
    "        Given cleartext msg, encode using caesar cipher of provided offset.\n",
    "        \"\"\"\n",
    "        t = Caesar.table(i, reverse=reverse)\n",
    "        r = []\n",
    "        for c in cleartext.upper():\n",
    "            if c in ALPHABET:\n",
    "                i = Caesar.offset(c)\n",
    "                r.append(t[i])\n",
    "        return \"\".join(r)\n",
    "\n",
    "    @staticmethod\n",
    "    def decipher(ciphertext, i):\n",
    "        \"\"\"\n",
    "        Given enciphered cipher, decode using caesar cipher of provided offset.\n",
    "        \"\"\"\n",
    "        return Caesar.encipher(ciphertext, i, reverse=True)\n",
    "    \n",
    "\n",
    "class CaesarSolver:\n",
    "    \n",
    "    @staticmethod\n",
    "    def freq(text):\n",
    "        \"\"\"\n",
    "        Count the number of occurences of each character in a given text and return an ordered dictionary.\n",
    "        \"\"\"\n",
    "        d = collections.defaultdict(int)\n",
    "        for c in text:\n",
    "            d[c] += 1\n",
    "        x = sorted(d.items(), key=operator.itemgetter(1))\n",
    "        for f in x:\n",
    "            yield f\n",
    "\n",
    "    @staticmethod\n",
    "    def freqcrack(ciphertext):\n",
    "        \"\"\"\n",
    "        Given a ciphertext, perform frequency analysis and guess the offset.\n",
    "        \"\"\"\n",
    "        cipherletter, cipherfreq = next(CaesarSolver.freq(ciphertext))\n",
    "        for clearletter in FREQUENCIES:\n",
    "            i = Caesar.offset(cipherletter, clearletter)\n",
    "            cleartext = Caesar.decipher(ciphertext, i)\n",
    "            yield {'offset': i, 'letter': clearletter, 'cleartext': cleartext, 'ciphertext': ciphertext, 'width': len(str(LENGTH))}\n",
    "\n",
    "    @staticmethod\n",
    "    def dictcrack(ciphertext):\n",
    "        \"\"\"\n",
    "        Attempt to crack the caesar ciphered text by looking for words in dictionary.\n",
    "        \"\"\"\n",
    "        for i in range(0, LENGTH):\n",
    "            for word in DICTIONARY:\n",
    "                cleartext = Caesar.decipher(ciphertext, i)\n",
    "                if word in cleartext:\n",
    "                    yield {'offset': i, 'cleartext': cleartext, 'word': word, 'ciphertext': ciphertext}\n",
    "                    break\n",
    "\n",
    "    @staticmethod\n",
    "    def crack(ciphertext):\n",
    "        \"\"\"\n",
    "        Composite crack function based on frequency analysis and dictionary words.\n",
    "        \"\"\"\n",
    "        for guess in CaesarSolver.freqcrack(ciphertext):\n",
    "            for word in DICTIONARY:\n",
    "                if word in guess['cleartext']:\n",
    "                    yield dict(guess, word=word)\n",
    "                    break\n",
    "                    \n",
    "\n",
    "class Vigenere(Caesar):\n",
    "    \n",
    "    @staticmethod\n",
    "    def encipher(cleartext, password, reverse = False):\n",
    "        pg = itertools.cycle(password.upper())\n",
    "        r = []\n",
    "        for c in cleartext.upper():\n",
    "            if c in ALPHABET:\n",
    "                i = Caesar.offset(next(pg))\n",
    "                r.append(Caesar.encipher(c, i, reverse=reverse))\n",
    "        return \"\".join(r)\n",
    "    \n",
    "    @staticmethod\n",
    "    def decipher(ciphertext, password):\n",
    "        return Vigenere.encipher(ciphertext, password, reverse=True)\n",
    "\n",
    "    \n",
    "def gcd(a, b):\n",
    "    \"\"\"\n",
    "    Calculate the gcd of a and b using Euclid's method, iteratively.\n",
    "    \"\"\"\n",
    "    c = 0\n",
    "    while b != 0:\n",
    "        a, b = b, a % b\n",
    "        c += 1\n",
    "    a = abs(a)\n",
    "    if count:\n",
    "        return a, c\n",
    "    return a\n",
    "\n",
    "\n",
    "def lcm(a, b):\n",
    "    \"\"\"\n",
    "    Returns the least common multiple of two numbers using gcd.\n",
    "    \"\"\"\n",
    "    return a * b / gcd(a, b)\n",
    "    \n",
    "    \n",
    "class VigenereSolver(CaesarSolver):\n",
    "    \n",
    "    @staticmethod\n",
    "    def dups(text, threshold):\n",
    "        l = len(text)\n",
    "        d = collections.defaultdict(int)\n",
    "        for i in range(l // 2, 0, -1):\n",
    "            for j in range(l):\n",
    "                k = j + i\n",
    "                if k <= l:\n",
    "                    x = text[j:k]\n",
    "                    d[x] += 1\n",
    "        r = dict((k, v) for k, v in d.items() if len(k) >= threshold and v > 1)\n",
    "        return sorted(r.items(), key=operator.itemgetter(1), reverse=True)"
   ]
  },
  {
   "cell_type": "code",
   "execution_count": 2,
   "metadata": {
    "collapsed": false
   },
   "outputs": [],
   "source": [
    "def caesar_guess(ciphertext):\n",
    "    for g in CaesarSolver.crack(ciphertext):\n",
    "        print(\"{offset:{width}}: {cleartext} ({letter}/{word})\".format(**g))\n",
    "\n",
    "def clean(message):\n",
    "    return \"\".join([x for x in message.upper() if x.isalpha()])"
   ]
  },
  {
   "cell_type": "code",
   "execution_count": 3,
   "metadata": {
    "collapsed": false
   },
   "outputs": [
    {
     "name": "stdout",
     "output_type": "stream",
     "text": [
      "Cipher(12):\tHVWGWGOGHCFMOPCIHOUWFZKVCHFWSRHCRFCKBHVSKVCZSKCFZR\n",
      "Clear(12):\tTHISISASTORYABOUTAGIRLWHOTRIEDTODROWNTHEWHOLEWORLD\n"
     ]
    }
   ],
   "source": [
    "i = 12\n",
    "message = 'This is a story about a girl who tried to drown the whole world.'\n",
    "ciphertext = Caesar.encipher(message, i)\n",
    "print(\"Cipher({}):\\t{}\".format(i, ciphertext))\n",
    "cleartext = Caesar.decipher(ciphertext, i)\n",
    "print(\"Clear({}):\\t{}\".format(i, cleartext))\n",
    "assert clean(message) == cleartext"
   ]
  },
  {
   "cell_type": "code",
   "execution_count": 4,
   "metadata": {
    "collapsed": false
   },
   "outputs": [
    {
     "name": "stdout",
     "output_type": "stream",
     "text": [
      "12: THISISASTORYABOUTAGIRLWHOTRIEDTODROWNTHEWHOLEWORLD (P/THE)\n",
      " 2: JXYIYIQIJEHOQREKJQWYHBMXEJHYUTJETHEMDJXUMXEBUMEHBT (Z/THE)\n"
     ]
    }
   ],
   "source": [
    "caesar_guess(ciphertext)"
   ]
  },
  {
   "cell_type": "code",
   "execution_count": 5,
   "metadata": {
    "collapsed": false
   },
   "outputs": [
    {
     "name": "stdout",
     "output_type": "stream",
     "text": [
      "Cipher(shoe):\tBAUOQLMOBHDUIUAQBTSEZEIDWMDEMWFKLKASVMTAEAAHMPANTW\n",
      "Clear(shoe):\tTHISISASTORYABOUTAGIRLWHOTRIEDTODROWNTHEWHOLEWORLD\n"
     ]
    }
   ],
   "source": [
    "message = 'This is a story about a girl who tried to drown the whole world.'\n",
    "password = 'shoe'\n",
    "ciphertext = Vigenere.encipher(message, password)\n",
    "print(\"Cipher({}):\\t{}\".format(password, ciphertext))\n",
    "cleartext = Vigenere.decipher(ciphertext, password)\n",
    "print(\"Clear({}):\\t{}\".format(password, cleartext))\n",
    "assert clean(message) == cleartext"
   ]
  },
  {
   "cell_type": "code",
   "execution_count": null,
   "metadata": {
    "collapsed": true
   },
   "outputs": [],
   "source": []
  }
 ],
 "metadata": {
  "kernelspec": {
   "display_name": "Python 3",
   "language": "python",
   "name": "python3"
  },
  "language_info": {
   "codemirror_mode": {
    "name": "ipython",
    "version": 3
   },
   "file_extension": ".py",
   "mimetype": "text/x-python",
   "name": "python",
   "nbconvert_exporter": "python",
   "pygments_lexer": "ipython3",
   "version": "3.4.3"
  }
 },
 "nbformat": 4,
 "nbformat_minor": 0
}
